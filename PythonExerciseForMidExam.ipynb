{
 "cells": [
  {
   "cell_type": "code",
   "execution_count": 3,
   "id": "8b1e80f0",
   "metadata": {},
   "outputs": [
    {
     "name": "stdout",
     "output_type": "stream",
     "text": [
      "Enter number here: 25\n",
      "Enter number here: 10\n",
      "The result =  35\n"
     ]
    }
   ],
   "source": [
    "num1 = int(input(\"Enter number here: \"))\n",
    "num2 = int(input(\"Enter number here: \"))\n",
    "prod = num1 * num2\n",
    "if prod >= 1000:\n",
    "    print(\"The result = \", prod)\n",
    "else:\n",
    "    print(f\"The result =  {num1 + num2}\")"
   ]
  },
  {
   "cell_type": "code",
   "execution_count": 2,
   "id": "ac255ce1",
   "metadata": {},
   "outputs": [
    {
     "name": "stdout",
     "output_type": "stream",
     "text": [
      "--The sum of current number--\n",
      "Current number 1 Previous number 0 Sum = 1\n",
      "Current number 2 Previous number 1 Sum = 3\n",
      "Current number 3 Previous number 2 Sum = 5\n",
      "Current number 4 Previous number 3 Sum = 7\n",
      "Current number 5 Previous number 4 Sum = 9\n",
      "Current number 6 Previous number 5 Sum = 11\n",
      "Current number 7 Previous number 6 Sum = 13\n",
      "Current number 8 Previous number 7 Sum = 15\n",
      "Current number 9 Previous number 8 Sum = 17\n",
      "Current number 10 Previous number 9 Sum = 19\n"
     ]
    }
   ],
   "source": [
    "print(\"--The sum of current number--\")\n",
    "for i in range(10):\n",
    "    nim = i + 1\n",
    "    print(f\"Current number {nim} Previous number {i} Sum = {nim+i}\")"
   ]
  },
  {
   "cell_type": "code",
   "execution_count": 8,
   "id": "4c17ba5c",
   "metadata": {},
   "outputs": [
    {
     "name": "stdout",
     "output_type": "stream",
     "text": [
      "Original string is 'Flying Fox'\n",
      "Even Index Characters : \n",
      "F\n",
      "y\n",
      "n\n",
      " \n",
      "o\n"
     ]
    }
   ],
   "source": [
    "data = \"Flying Fox\"\n",
    "print(f\"Original string is {data!r}\")\n",
    "print(\"Even Index Characters : \")\n",
    "for i in range(len(data)):\n",
    "    if i % 2 == 0:\n",
    "        print(data[i])"
   ]
  },
  {
   "cell_type": "code",
   "execution_count": 11,
   "id": "b621493e",
   "metadata": {},
   "outputs": [],
   "source": [
    "def remove_chars(word, num):\n",
    "    print(word[num+1::])"
   ]
  },
  {
   "cell_type": "code",
   "execution_count": 12,
   "id": "03b96a05",
   "metadata": {},
   "outputs": [
    {
     "name": "stdout",
     "output_type": "stream",
     "text": [
      "ulan\n"
     ]
    }
   ],
   "source": [
    "remove_chars(\"Rembulan\", 3)"
   ]
  },
  {
   "cell_type": "code",
   "execution_count": 16,
   "id": "c9e6e14f",
   "metadata": {},
   "outputs": [
    {
     "name": "stdout",
     "output_type": "stream",
     "text": [
      "The resuls is True\n"
     ]
    }
   ],
   "source": [
    "listme = [2,50,65,12,2]\n",
    "if listme[0] == listme[-1]:\n",
    "    print(\"The resuls is\",True)\n",
    "else:\n",
    "    False\n",
    "    "
   ]
  },
  {
   "cell_type": "code",
   "execution_count": 19,
   "id": "ecd8957a",
   "metadata": {},
   "outputs": [
    {
     "name": "stdout",
     "output_type": "stream",
     "text": [
      "The result is False\n"
     ]
    }
   ],
   "source": [
    "listyou = [5,1,3,2,5,8]\n",
    "if listyou[0] == listyou[-1]:\n",
    "    print(\"The resuls is\",True)\n",
    "else:\n",
    "    print(\"The result is\", False)"
   ]
  },
  {
   "cell_type": "code",
   "execution_count": 1,
   "id": "d607a02d",
   "metadata": {},
   "outputs": [
    {
     "name": "stdout",
     "output_type": "stream",
     "text": [
      "5\n",
      "15\n",
      "65\n",
      "30\n"
     ]
    }
   ],
   "source": [
    "list_s = [4,3,5,9,15,12,65,30]\n",
    "for x in list_s:\n",
    "    if x % 5 == 0:\n",
    "        print(x)"
   ]
  },
  {
   "cell_type": "code",
   "execution_count": 3,
   "id": "5acc3a51",
   "metadata": {},
   "outputs": [
    {
     "name": "stdout",
     "output_type": "stream",
     "text": [
      "Arum appeared 4 times\n"
     ]
    }
   ],
   "source": [
    "mystring = \"My name is Arum. Arum is a software engineer. Arum is a freelance writer. Arum is a freelance teacher too \"\n",
    "a = mystring.count(\"Arum\")\n",
    "print(f\"Arum appeared {a} times\")"
   ]
  },
  {
   "cell_type": "code",
   "execution_count": 4,
   "id": "cfbe5b5c",
   "metadata": {},
   "outputs": [
    {
     "data": {
      "text/plain": [
       "4"
      ]
     },
     "execution_count": 4,
     "metadata": {},
     "output_type": "execute_result"
    }
   ],
   "source": [
    "mystring.count(\"Arum\")"
   ]
  },
  {
   "cell_type": "code",
   "execution_count": 5,
   "id": "118f44e2",
   "metadata": {},
   "outputs": [
    {
     "name": "stdout",
     "output_type": "stream",
     "text": [
      "\n",
      "\n",
      "* \n",
      "\n",
      "* * * \n",
      "\n",
      "* * * * * \n",
      "\n",
      "* * * * * * * \n",
      "\n"
     ]
    }
   ],
   "source": [
    "for i in range(1, 6):\n",
    "    for x in range(1, i - 1):\n",
    "        print(\"*\", end=\" \")\n",
    "    for x in range(i - 1, 0, -1):\n",
    "        print(\"*\", end=\" \")\n",
    "    print(\"\\n\")\n",
    "        "
   ]
  },
  {
   "cell_type": "code",
   "execution_count": 5,
   "id": "3cc6a6ff",
   "metadata": {},
   "outputs": [
    {
     "name": "stdout",
     "output_type": "stream",
     "text": [
      "Enter number: 1247421\n",
      "Yes. given number is palindrome number\n"
     ]
    }
   ],
   "source": [
    "var = input(\"Enter number: \")\n",
    "if var[0::] == var [::-1]:\n",
    "    print(\"Yes. given number is palindrome number\")\n",
    "else:\n",
    "    print(\"No. given number is not palindrome number\")"
   ]
  },
  {
   "cell_type": "code",
   "execution_count": 7,
   "id": "2741d78e",
   "metadata": {},
   "outputs": [
    {
     "data": {
      "text/plain": [
       "[21, 9, 31, 23, 10, 32, 36, 40]"
      ]
     },
     "execution_count": 7,
     "metadata": {},
     "output_type": "execute_result"
    }
   ],
   "source": [
    "list1 = [2,34,21,26,9,31,23,50]\n",
    "list2 = [10,13,15,21,32,36,40,51]\n",
    "[x for x in list1 if x % 2 != 0] + [y for y in list2 if y % 2 == 0]"
   ]
  },
  {
   "cell_type": "code",
   "execution_count": 8,
   "id": "7761c366",
   "metadata": {},
   "outputs": [
    {
     "name": "stdout",
     "output_type": "stream",
     "text": [
      "[9, 10, 21, 23, 31, 32, 36, 40]\n"
     ]
    }
   ],
   "source": [
    "new_list = []\n",
    "for x in list1:\n",
    "    if x % 2 != 0:\n",
    "        new_list.append(x)\n",
    "    else:\n",
    "        pass\n",
    "for y in list2:\n",
    "    if y % 2 == 0:\n",
    "        new_list.append(y)\n",
    "print(sorted(new_list))"
   ]
  },
  {
   "cell_type": "code",
   "execution_count": 9,
   "id": "52cfdc15",
   "metadata": {},
   "outputs": [
    {
     "ename": "TypeError",
     "evalue": "'int' object is not subscriptable",
     "output_type": "error",
     "traceback": [
      "\u001b[1;31m---------------------------------------------------------------------------\u001b[0m",
      "\u001b[1;31mTypeError\u001b[0m                                 Traceback (most recent call last)",
      "\u001b[1;32m~\\AppData\\Local\\Temp/ipykernel_11556/2652719710.py\u001b[0m in \u001b[0;36m<module>\u001b[1;34m\u001b[0m\n\u001b[0;32m      2\u001b[0m \u001b[1;31m#print(n[::-1])\u001b[0m\u001b[1;33m\u001b[0m\u001b[1;33m\u001b[0m\u001b[0m\n\u001b[0;32m      3\u001b[0m \u001b[0mj\u001b[0m \u001b[1;33m=\u001b[0m \u001b[1;36m768\u001b[0m\u001b[1;33m\u001b[0m\u001b[1;33m\u001b[0m\u001b[0m\n\u001b[1;32m----> 4\u001b[1;33m \u001b[0mprint\u001b[0m\u001b[1;33m(\u001b[0m\u001b[0mj\u001b[0m\u001b[1;33m[\u001b[0m\u001b[1;33m:\u001b[0m\u001b[1;33m:\u001b[0m\u001b[1;33m-\u001b[0m\u001b[1;36m1\u001b[0m\u001b[1;33m]\u001b[0m\u001b[1;33m)\u001b[0m\u001b[1;33m\u001b[0m\u001b[1;33m\u001b[0m\u001b[0m\n\u001b[0m",
      "\u001b[1;31mTypeError\u001b[0m: 'int' object is not subscriptable"
     ]
    }
   ],
   "source": [
    "#n = input(\"Enter number : \")\n",
    "#print(n[::-1])\n",
    "j = 768\n",
    "print(j[::-1])"
   ]
  },
  {
   "cell_type": "code",
   "execution_count": 18,
   "id": "7b9ff197",
   "metadata": {},
   "outputs": [
    {
     "name": "stdout",
     "output_type": "stream",
     "text": [
      "Enter revenue: $45000\n",
      "6000.0\n"
     ]
    }
   ],
   "source": [
    "rev = int(input(\"Enter revenue: $\"))\n",
    "var1 = 10000\n",
    "var2 = 20000\n",
    "var3 = rev - 20000\n",
    "if rev <= var1:\n",
    "    rev_tax = var1 * 0\n",
    "elif rev <= var2:\n",
    "    rev_tax = var1 * 0\n",
    "elif rev > var2:\n",
    "    rev_tax = var1 * 0 + (var2 - var1) * 0.1 + (rev - (var1*2)) * 0.2\n",
    "else:\n",
    "    pass\n",
    "print(rev_tax)"
   ]
  },
  {
   "cell_type": "code",
   "execution_count": 28,
   "id": "d1c570c4",
   "metadata": {},
   "outputs": [],
   "source": [
    "def exponent(base, exp):\n",
    "    res = base ** exp\n",
    "    print(f\"{base} to the power of {exp} = {res}\")"
   ]
  },
  {
   "cell_type": "code",
   "execution_count": 29,
   "id": "468f514a",
   "metadata": {},
   "outputs": [
    {
     "name": "stdout",
     "output_type": "stream",
     "text": [
      "2 to the power of 5 = 32\n"
     ]
    }
   ],
   "source": [
    "exponent(2, 5)"
   ]
  },
  {
   "cell_type": "code",
   "execution_count": 30,
   "id": "145a3f29",
   "metadata": {},
   "outputs": [
    {
     "name": "stdout",
     "output_type": "stream",
     "text": [
      "\n",
      "\n",
      "* \n",
      "\n",
      "* * * \n",
      "\n",
      "* * * * * \n",
      "\n",
      "* * * * * * * \n",
      "\n"
     ]
    }
   ],
   "source": [
    "for i in range(1, 6):\n",
    "    for x in range(i - 1, 0, -1):\n",
    "        print(\"*\", end=\" \")\n",
    "    for x in range(1, i - 1):\n",
    "        print(\"*\", end=\" \")\n",
    "    print(\"\\n\")"
   ]
  },
  {
   "cell_type": "code",
   "execution_count": 31,
   "id": "d85c83f7",
   "metadata": {},
   "outputs": [
    {
     "name": "stdout",
     "output_type": "stream",
     "text": [
      ": 4\n",
      ": 6\n",
      "24\n"
     ]
    }
   ],
   "source": [
    "w = int(input(': '))\n",
    "s = int(input(': '))\n",
    "print(w * s)"
   ]
  },
  {
   "cell_type": "code",
   "execution_count": 33,
   "id": "e08c2add",
   "metadata": {},
   "outputs": [
    {
     "name": "stdout",
     "output_type": "stream",
     "text": [
      "name**is**Arum\n"
     ]
    }
   ],
   "source": [
    "print(\"name\",\"is\",\"Arum\", sep= \"**\")"
   ]
  },
  {
   "cell_type": "code",
   "execution_count": 34,
   "id": "acbb95f4",
   "metadata": {},
   "outputs": [
    {
     "name": "stdout",
     "output_type": "stream",
     "text": [
      "8\n",
      "Octal number of 8 = 0o10\n"
     ]
    }
   ],
   "source": [
    "num = int(input(\"\"))\n",
    "print(f\"Octal number of {num} = {oct(num)}\")"
   ]
  },
  {
   "cell_type": "code",
   "execution_count": 36,
   "id": "9ee59d9d",
   "metadata": {},
   "outputs": [
    {
     "name": "stdout",
     "output_type": "stream",
     "text": [
      "24.5362\n",
      "New decimal is 24.54\n"
     ]
    }
   ],
   "source": [
    "nume = float(input(\"\"))\n",
    "print(\"New decimal is {0:5.2f}\".format(nume))"
   ]
  },
  {
   "cell_type": "code",
   "execution_count": 10,
   "id": "ba08cfaf",
   "metadata": {},
   "outputs": [
    {
     "name": "stdout",
     "output_type": "stream",
     "text": [
      "Enter number: 45.9\n",
      "Enter number: 89.7\n",
      "Enter number: 76.5\n",
      "Enter number: 45.7\n",
      "Enter number: 34.4\n",
      "Enter number: 66.9\n",
      "[45.9, 89.7, 76.5, 45.7, 34.4, 66.9]\n"
     ]
    }
   ],
   "source": [
    "numlist = []\n",
    "for i in range(6):\n",
    "    i = 1\n",
    "    k = float(input(\"Enter number: \"))\n",
    "    numlist.append(k)\n",
    "print(numlist)"
   ]
  },
  {
   "cell_type": "code",
   "execution_count": 11,
   "id": "41eb9c80",
   "metadata": {},
   "outputs": [
    {
     "name": "stdout",
     "output_type": "stream",
     "text": [
      "Line 0\n",
      "Line 1\n",
      "Line 2\n",
      "Line 3\n",
      "Line 4\n",
      "Line 6\n",
      "Line 7\n",
      "Line 8\n"
     ]
    }
   ],
   "source": [
    "for i in range(9):\n",
    "    if i == 5:\n",
    "        continue\n",
    "    print(f\"Line {i}\")"
   ]
  },
  {
   "cell_type": "code",
   "execution_count": 42,
   "id": "24e61fd3",
   "metadata": {},
   "outputs": [
    {
     "name": "stdout",
     "output_type": "stream",
     "text": [
      "Enter three string Watson Margo Carefour\n",
      "Watson\n",
      "Margo\n",
      "Carefour\n"
     ]
    }
   ],
   "source": [
    "print(\"Enter three string Watson Margo Carefour\")\n",
    "Name1: input(\"\")\n",
    "Name2: input(\"\")\n",
    "Name3: input(\"\")"
   ]
  },
  {
   "cell_type": "code",
   "execution_count": 43,
   "id": "ec056382",
   "metadata": {},
   "outputs": [
    {
     "name": "stdout",
     "output_type": "stream",
     "text": [
      "I have 1000 dollars so I can buy 3 football for 450.00 dollars\n"
     ]
    }
   ],
   "source": [
    "totalMoney = 1000\n",
    "quantity = 3\n",
    "price = 450\n",
    "print(\"I have {0} dollars so I can buy {1} football for {2:6.2f} dollars\".format(totalMoney, quantity, price))"
   ]
  },
  {
   "cell_type": "code",
   "execution_count": 1,
   "id": "0635b44e",
   "metadata": {},
   "outputs": [
    {
     "ename": "NameError",
     "evalue": "name 'i' is not defined",
     "output_type": "error",
     "traceback": [
      "\u001b[1;31m---------------------------------------------------------------------------\u001b[0m",
      "\u001b[1;31mNameError\u001b[0m                                 Traceback (most recent call last)",
      "\u001b[1;32m~\\AppData\\Local\\Temp/ipykernel_9400/4044542183.py\u001b[0m in \u001b[0;36m<module>\u001b[1;34m\u001b[0m\n\u001b[1;32m----> 1\u001b[1;33m \u001b[1;32mwhile\u001b[0m \u001b[0mi\u001b[0m \u001b[1;32min\u001b[0m \u001b[0mrange\u001b[0m\u001b[1;33m(\u001b[0m\u001b[1;36m11\u001b[0m\u001b[1;33m)\u001b[0m\u001b[1;33m:\u001b[0m\u001b[1;33m\u001b[0m\u001b[1;33m\u001b[0m\u001b[0m\n\u001b[0m\u001b[0;32m      2\u001b[0m     \u001b[0mprint\u001b[0m\u001b[1;33m(\u001b[0m\u001b[0mi\u001b[0m\u001b[1;33m)\u001b[0m\u001b[1;33m\u001b[0m\u001b[1;33m\u001b[0m\u001b[0m\n",
      "\u001b[1;31mNameError\u001b[0m: name 'i' is not defined"
     ]
    }
   ],
   "source": [
    "while i in range(11):\n",
    "    print(i)"
   ]
  },
  {
   "cell_type": "code",
   "execution_count": 2,
   "id": "65a06e0f",
   "metadata": {},
   "outputs": [
    {
     "name": "stdout",
     "output_type": "stream",
     "text": [
      "0\n",
      "1\n",
      "2\n",
      "3\n",
      "4\n",
      "5\n",
      "6\n",
      "7\n",
      "8\n",
      "9\n",
      "10\n"
     ]
    }
   ],
   "source": [
    "i = 0\n",
    "while i in range(11):\n",
    "    print(i)\n",
    "    i += 1"
   ]
  },
  {
   "cell_type": "code",
   "execution_count": 3,
   "id": "ddbfbe35",
   "metadata": {},
   "outputs": [
    {
     "name": "stdout",
     "output_type": "stream",
     "text": [
      "1\n",
      "2\n",
      "3\n",
      "4\n",
      "5\n",
      "6\n",
      "7\n",
      "8\n",
      "9\n",
      "10\n",
      "11\n"
     ]
    }
   ],
   "source": [
    "i = 0\n",
    "while i in range(11):\n",
    "    i += 1\n",
    "    print(i)"
   ]
  },
  {
   "cell_type": "code",
   "execution_count": 4,
   "id": "1f81ace4",
   "metadata": {},
   "outputs": [
    {
     "name": "stdout",
     "output_type": "stream",
     "text": [
      "1\n",
      "2\n",
      "3\n",
      "4\n",
      "5\n",
      "6\n",
      "7\n",
      "8\n",
      "9\n",
      "10\n"
     ]
    }
   ],
   "source": [
    "i = 1\n",
    "while i in range(11):\n",
    "    print(i)\n",
    "    i += 1"
   ]
  },
  {
   "cell_type": "code",
   "execution_count": 6,
   "id": "97abb7b7",
   "metadata": {},
   "outputs": [
    {
     "name": "stdout",
     "output_type": "stream",
     "text": [
      "\n",
      "\n",
      "1 \n",
      "\n",
      "2 1 1 \n",
      "\n",
      "3 2 1 1 2 \n",
      "\n",
      "4 3 2 1 1 2 3 \n",
      "\n",
      "5 4 3 2 1 1 2 3 4 \n",
      "\n"
     ]
    }
   ],
   "source": [
    "for i in range(1, 7):\n",
    "    for x in range(i - 1, 0, -1):\n",
    "        print(x, end=\" \")\n",
    "    for x in range(1, i - 1):\n",
    "        print(x, end=\" \")\n",
    "    print(\"\\n\")"
   ]
  },
  {
   "cell_type": "code",
   "execution_count": null,
   "id": "75f8f67c",
   "metadata": {},
   "outputs": [],
   "source": [
    "for i in range(1,7):\n",
    "    pass"
   ]
  },
  {
   "cell_type": "code",
   "execution_count": 9,
   "id": "6ec6656c",
   "metadata": {},
   "outputs": [
    {
     "name": "stdout",
     "output_type": "stream",
     "text": [
      "Enter number: 10\n",
      "Sum number =  55\n"
     ]
    }
   ],
   "source": [
    "num = int(input(\"Enter number: \"))\n",
    "numlist = []\n",
    "for i in range(1,num+1):\n",
    "    numlist.append(i)\n",
    "print(\"Sum number = \",sum(numlist))"
   ]
  },
  {
   "cell_type": "code",
   "execution_count": 4,
   "id": "fd7e7612",
   "metadata": {},
   "outputs": [
    {
     "name": "stdout",
     "output_type": "stream",
     "text": [
      "Enter number: 2\n",
      "2\n",
      "4\n",
      "6\n",
      "8\n",
      "10\n",
      "12\n",
      "14\n",
      "16\n",
      "18\n",
      "20\n"
     ]
    }
   ],
   "source": [
    "num = int(input(\"Enter number: \"))\n",
    "for i in range(1,11):\n",
    "    new_num = num * i\n",
    "    print(new_num)"
   ]
  },
  {
   "cell_type": "code",
   "execution_count": 6,
   "id": "fae6840f",
   "metadata": {},
   "outputs": [
    {
     "name": "stdout",
     "output_type": "stream",
     "text": [
      "75\n",
      "150\n",
      "145\n"
     ]
    }
   ],
   "source": [
    "numbers = [12, 75, 150, 180, 145, 525, 50]\n",
    "for k in numbers:\n",
    "    if k < 500:\n",
    "        if k <= 150:\n",
    "            if k % 5 == 0:\n",
    "                print(k)\n",
    "            else:\n",
    "                pass\n",
    "        else:\n",
    "            continue\n",
    "    else:\n",
    "        break"
   ]
  },
  {
   "cell_type": "code",
   "execution_count": 15,
   "id": "69ed8a83",
   "metadata": {},
   "outputs": [
    {
     "name": "stdout",
     "output_type": "stream",
     "text": [
      "Enter number: 76890\n",
      "Count of elements in numint = 5\n"
     ]
    }
   ],
   "source": [
    "numint = int(input('Enter number: '))\n",
    "i = 0\n",
    "numstr = str(numint)\n",
    "for j in numstr:\n",
    "    i += 1\n",
    "print(f\"Count of elements in numint = {i}\")"
   ]
  },
  {
   "cell_type": "code",
   "execution_count": 12,
   "id": "ee135898",
   "metadata": {},
   "outputs": [
    {
     "name": "stdout",
     "output_type": "stream",
     "text": [
      "90\n",
      "70\n",
      "40\n",
      "30\n",
      "10\n"
     ]
    }
   ],
   "source": [
    "list1 = [10, 30, 40, 70, 90]\n",
    "list1.reverse()\n",
    "for i in list1:\n",
    "    print(i)"
   ]
  },
  {
   "cell_type": "code",
   "execution_count": 16,
   "id": "175e27be",
   "metadata": {},
   "outputs": [
    {
     "name": "stdout",
     "output_type": "stream",
     "text": [
      "-10\n",
      "-9\n",
      "-8\n",
      "-7\n",
      "-6\n",
      "-5\n",
      "-4\n",
      "-3\n",
      "-2\n",
      "-1\n"
     ]
    }
   ],
   "source": [
    "for k in range(-10,0):\n",
    "    print(k)"
   ]
  },
  {
   "cell_type": "code",
   "execution_count": 17,
   "id": "06822182",
   "metadata": {},
   "outputs": [
    {
     "name": "stdout",
     "output_type": "stream",
     "text": [
      "0\n",
      "1\n",
      "2\n",
      "3\n",
      "4\n",
      "Done!\n"
     ]
    }
   ],
   "source": [
    "for i in range(5):\n",
    "    print(i)\n",
    "else:\n",
    "    print(\"Done!\")"
   ]
  },
  {
   "cell_type": "code",
   "execution_count": 18,
   "id": "6d13c06d",
   "metadata": {},
   "outputs": [
    {
     "name": "stdout",
     "output_type": "stream",
     "text": [
      "29\n",
      "31\n",
      "37\n",
      "41\n",
      "43\n",
      "47\n"
     ]
    }
   ],
   "source": [
    "for num in range(25, 50):\n",
    "   # all prime numbers are greater than 1\n",
    "   if num > 1:\n",
    "        for i in range(2, num):\n",
    "            if (num % i) == 0:\n",
    "                break\n",
    "        else:\n",
    "            print(num)"
   ]
  },
  {
   "cell_type": "code",
   "execution_count": 31,
   "id": "db95b7a1",
   "metadata": {},
   "outputs": [],
   "source": [
    "current_num = 0\n",
    "curr_list = []\n",
    "for j in range(0,10):\n",
    "    current_num = current_num + j\n",
    "    curr_list.append(current_num):\n",
    "        for i in curr_list:\n",
    "            "
   ]
  },
  {
   "cell_type": "code",
   "execution_count": 5,
   "id": "c9b4d0ab",
   "metadata": {},
   "outputs": [
    {
     "name": "stdout",
     "output_type": "stream",
     "text": [
      "Enter the start number here 4\n",
      "Enter the end number here 23\n",
      "[3, 5, 8, 13, 21, 34, 55, 89, 144, 233, 377, 610, 987, 1597, 2584, 4181, 6765, 10946, 17711]\n"
     ]
    }
   ],
   "source": [
    "startNumber = int(input(\"Enter the start number here \"))\n",
    "endNumber = int(input(\"Enter the end number here \"))\n",
    "\n",
    "def fib(n):\n",
    "    if n < 2:\n",
    "        return n\n",
    "    return fib(n-2) + fib(n-1)\n",
    "\n",
    "print(list(map(fib, range(startNumber, endNumber))))"
   ]
  },
  {
   "cell_type": "code",
   "execution_count": 6,
   "id": "edba42ca",
   "metadata": {},
   "outputs": [
    {
     "data": {
      "text/plain": [
       "[0, 1, 1, 2, 3, 5, 8, 13, 21, 34]"
      ]
     },
     "execution_count": 6,
     "metadata": {},
     "output_type": "execute_result"
    }
   ],
   "source": [
    "def fibonacci_of(n):\n",
    "    if n in {0, 1}:  # Base case\n",
    "         return n\n",
    "    return fibonacci_of(n - 1) + fibonacci_of(n - 2)  # Recursive case\n",
    "\n",
    "\n",
    "[fibonacci_of(n) for n in range(10)]"
   ]
  },
  {
   "cell_type": "code",
   "execution_count": 7,
   "id": "4e362f13",
   "metadata": {},
   "outputs": [
    {
     "name": "stdout",
     "output_type": "stream",
     "text": [
      "How many terms? 9\n",
      "Fibonacci sequence:\n",
      "0\n",
      "1\n",
      "1\n",
      "2\n",
      "3\n",
      "5\n",
      "8\n",
      "13\n",
      "21\n"
     ]
    }
   ],
   "source": [
    "# Program to display the Fibonacci sequence up to n-th term\n",
    "\n",
    "nterms = int(input(\"How many terms? \"))\n",
    "\n",
    "# first two terms\n",
    "n1, n2 = 0, 1\n",
    "count = 0\n",
    "\n",
    "# check if the number of terms is valid\n",
    "if nterms <= 0:\n",
    "    print(\"Please enter a positive integer\")\n",
    "# if there is only one term, return n1\n",
    "elif nterms == 1:\n",
    "    print(\"Fibonacci sequence upto\",nterms,\":\")\n",
    "    print(n1)\n",
    "# generate fibonacci sequence\n",
    "else:\n",
    "    print(\"Fibonacci sequence:\")\n",
    "    while count < nterms:\n",
    "        print(n1)\n",
    "        nth = n1 + n2\n",
    "       # update values\n",
    "        n1 = n2\n",
    "        n2 = nth\n",
    "        count += 1"
   ]
  },
  {
   "cell_type": "code",
   "execution_count": 17,
   "id": "a3ebedab",
   "metadata": {},
   "outputs": [
    {
     "name": "stdout",
     "output_type": "stream",
     "text": [
      "a\n",
      "b\n",
      "c\n"
     ]
    }
   ],
   "source": [
    "gor = ['a','b','c','d','e']\n",
    "for x in gor:\n",
    "    if x == 'd':\n",
    "        break\n",
    "    print(x)"
   ]
  },
  {
   "cell_type": "code",
   "execution_count": 1,
   "id": "e6e8953a",
   "metadata": {},
   "outputs": [
    {
     "data": {
      "text/plain": [
       "400.0"
      ]
     },
     "execution_count": 1,
     "metadata": {},
     "output_type": "execute_result"
    }
   ],
   "source": [
    "4E2"
   ]
  },
  {
   "cell_type": "code",
   "execution_count": 2,
   "id": "c3b40bbf",
   "metadata": {},
   "outputs": [
    {
     "data": {
      "text/plain": [
       "400.0"
      ]
     },
     "execution_count": 2,
     "metadata": {},
     "output_type": "execute_result"
    }
   ],
   "source": [
    "4e2"
   ]
  },
  {
   "cell_type": "code",
   "execution_count": 3,
   "id": "7026d7bd",
   "metadata": {},
   "outputs": [
    {
     "ename": "NameError",
     "evalue": "name 'e2' is not defined",
     "output_type": "error",
     "traceback": [
      "\u001b[1;31m---------------------------------------------------------------------------\u001b[0m",
      "\u001b[1;31mNameError\u001b[0m                                 Traceback (most recent call last)",
      "\u001b[1;32m~\\AppData\\Local\\Temp/ipykernel_5976/3179573326.py\u001b[0m in \u001b[0;36m<module>\u001b[1;34m\u001b[0m\n\u001b[1;32m----> 1\u001b[1;33m \u001b[0me2\u001b[0m\u001b[1;33m\u001b[0m\u001b[1;33m\u001b[0m\u001b[0m\n\u001b[0m",
      "\u001b[1;31mNameError\u001b[0m: name 'e2' is not defined"
     ]
    }
   ],
   "source": [
    "e2"
   ]
  },
  {
   "cell_type": "code",
   "execution_count": 4,
   "id": "88759056",
   "metadata": {},
   "outputs": [
    {
     "data": {
      "text/plain": [
       "200.0"
      ]
     },
     "execution_count": 4,
     "metadata": {},
     "output_type": "execute_result"
    }
   ],
   "source": [
    "2e2"
   ]
  },
  {
   "cell_type": "code",
   "execution_count": 6,
   "id": "43338e75",
   "metadata": {},
   "outputs": [
    {
     "data": {
      "text/plain": [
       "2.3333333333333335"
      ]
     },
     "execution_count": 6,
     "metadata": {},
     "output_type": "execute_result"
    }
   ],
   "source": [
    "7/3   # dia tidak langsung membentuk pembulatan"
   ]
  },
  {
   "cell_type": "code",
   "execution_count": 1,
   "id": "673415a7",
   "metadata": {},
   "outputs": [
    {
     "data": {
      "text/plain": [
       "3.0"
      ]
     },
     "execution_count": 1,
     "metadata": {},
     "output_type": "execute_result"
    }
   ],
   "source": [
    "6/2"
   ]
  },
  {
   "cell_type": "code",
   "execution_count": 2,
   "id": "d80a47f1",
   "metadata": {},
   "outputs": [
    {
     "data": {
      "text/plain": [
       "2"
      ]
     },
     "execution_count": 2,
     "metadata": {},
     "output_type": "execute_result"
    }
   ],
   "source": [
    "a = 1\n",
    "b = 0\n",
    "a = a ^ b\n",
    "b = a ^ b\n",
    "c = a ^ b\n",
    "a + b"
   ]
  },
  {
   "cell_type": "code",
   "execution_count": 7,
   "id": "4f4303db",
   "metadata": {},
   "outputs": [
    {
     "data": {
      "text/plain": [
       "3.0"
      ]
     },
     "execution_count": 7,
     "metadata": {},
     "output_type": "execute_result"
    }
   ],
   "source": [
    "27 ** (1/3)  # python itu memang menghitung scr scientific artinya urut dari yang kuat dulu misal (*) dihitung lebih dulu dari (+) tapi hati-hati dengan urutan"
   ]
  },
  {
   "cell_type": "code",
   "execution_count": 8,
   "id": "7d6f1093",
   "metadata": {},
   "outputs": [
    {
     "data": {
      "text/plain": [
       "32"
      ]
     },
     "execution_count": 8,
     "metadata": {},
     "output_type": "execute_result"
    }
   ],
   "source": [
    "2**5   # ini pangkat"
   ]
  },
  {
   "cell_type": "code",
   "execution_count": 9,
   "id": "d473a817",
   "metadata": {},
   "outputs": [
    {
     "data": {
      "text/plain": [
       "2.0"
      ]
     },
     "execution_count": 9,
     "metadata": {},
     "output_type": "execute_result"
    }
   ],
   "source": [
    "32**(1/5)   # ini akar"
   ]
  },
  {
   "cell_type": "code",
   "execution_count": 10,
   "id": "211a1bb3",
   "metadata": {},
   "outputs": [
    {
     "data": {
      "text/plain": [
       "7"
      ]
     },
     "execution_count": 10,
     "metadata": {},
     "output_type": "execute_result"
    }
   ],
   "source": [
    "n = 7\n",
    "n    # nama variabel lebih baik pakai lowercase"
   ]
  },
  {
   "cell_type": "code",
   "execution_count": 11,
   "id": "505d8ee9",
   "metadata": {},
   "outputs": [
    {
     "data": {
      "text/plain": [
       "9"
      ]
     },
     "execution_count": 11,
     "metadata": {},
     "output_type": "execute_result"
    }
   ],
   "source": [
    "n = 9\n",
    "n     # avoid using single char variable name dgn huruf \"i\", \"I\", \"l\", \"o\""
   ]
  },
  {
   "cell_type": "code",
   "execution_count": 12,
   "id": "cb243ea5",
   "metadata": {},
   "outputs": [],
   "source": [
    "n = 7\n",
    "n = 9"
   ]
  },
  {
   "cell_type": "code",
   "execution_count": 13,
   "id": "a07f6a61",
   "metadata": {},
   "outputs": [
    {
     "data": {
      "text/plain": [
       "9"
      ]
     },
     "execution_count": 13,
     "metadata": {},
     "output_type": "execute_result"
    }
   ],
   "source": [
    "n  # overwrite variabel di python akan mengeluarkan yang terakhir di-assign"
   ]
  },
  {
   "cell_type": "code",
   "execution_count": 3,
   "id": "a0a54c39",
   "metadata": {},
   "outputs": [],
   "source": [
    "#6 / 3 = a   # ini ga bisa\n",
    "a = 6/3"
   ]
  },
  {
   "cell_type": "code",
   "execution_count": 4,
   "id": "6fe48f8a",
   "metadata": {},
   "outputs": [
    {
     "data": {
      "text/plain": [
       "2.0"
      ]
     },
     "execution_count": 4,
     "metadata": {},
     "output_type": "execute_result"
    }
   ],
   "source": [
    "a"
   ]
  },
  {
   "cell_type": "code",
   "execution_count": 16,
   "id": "6e92f128",
   "metadata": {},
   "outputs": [
    {
     "ename": "NameError",
     "evalue": "name 'x' is not defined",
     "output_type": "error",
     "traceback": [
      "\u001b[1;31m---------------------------------------------------------------------------\u001b[0m",
      "\u001b[1;31mNameError\u001b[0m                                 Traceback (most recent call last)",
      "\u001b[1;32m~\\AppData\\Local\\Temp/ipykernel_5976/780333202.py\u001b[0m in \u001b[0;36m<module>\u001b[1;34m\u001b[0m\n\u001b[1;32m----> 1\u001b[1;33m \u001b[0mx\u001b[0m\u001b[1;33m\u001b[0m\u001b[1;33m\u001b[0m\u001b[0m\n\u001b[0m\u001b[0;32m      2\u001b[0m \u001b[0mtype\u001b[0m\u001b[1;33m(\u001b[0m\u001b[0mx\u001b[0m\u001b[1;33m)\u001b[0m\u001b[1;33m\u001b[0m\u001b[1;33m\u001b[0m\u001b[0m\n",
      "\u001b[1;31mNameError\u001b[0m: name 'x' is not defined"
     ]
    }
   ],
   "source": [
    "x\n",
    "type(x)  # is not defined bukan \"None\""
   ]
  },
  {
   "cell_type": "code",
   "execution_count": 17,
   "id": "ffe37c93",
   "metadata": {},
   "outputs": [],
   "source": [
    "key = \"rope\"\n",
    "b = list(key)\n",
    "c = set(key)\n",
    "d = tuple(key)"
   ]
  },
  {
   "cell_type": "code",
   "execution_count": 18,
   "id": "849629ce",
   "metadata": {},
   "outputs": [
    {
     "data": {
      "text/plain": [
       "['r', 'o', 'p', 'e']"
      ]
     },
     "execution_count": 18,
     "metadata": {},
     "output_type": "execute_result"
    }
   ],
   "source": [
    "b"
   ]
  },
  {
   "cell_type": "code",
   "execution_count": 19,
   "id": "2f828112",
   "metadata": {},
   "outputs": [
    {
     "data": {
      "text/plain": [
       "{'e', 'o', 'p', 'r'}"
      ]
     },
     "execution_count": 19,
     "metadata": {},
     "output_type": "execute_result"
    }
   ],
   "source": [
    "c"
   ]
  },
  {
   "cell_type": "code",
   "execution_count": 20,
   "id": "7f51da28",
   "metadata": {},
   "outputs": [
    {
     "data": {
      "text/plain": [
       "('r', 'o', 'p', 'e')"
      ]
     },
     "execution_count": 20,
     "metadata": {},
     "output_type": "execute_result"
    }
   ],
   "source": [
    "d"
   ]
  },
  {
   "cell_type": "code",
   "execution_count": 21,
   "id": "c2d9c5ec",
   "metadata": {},
   "outputs": [],
   "source": [
    "look = ['n','j','g']\n",
    "m = set(look)\n",
    "n = tuple(look)\n",
    "k = str(look)"
   ]
  },
  {
   "cell_type": "code",
   "execution_count": 22,
   "id": "2644e5f0",
   "metadata": {},
   "outputs": [
    {
     "data": {
      "text/plain": [
       "{'g', 'j', 'n'}"
      ]
     },
     "execution_count": 22,
     "metadata": {},
     "output_type": "execute_result"
    }
   ],
   "source": [
    "m"
   ]
  },
  {
   "cell_type": "code",
   "execution_count": 23,
   "id": "0ae406c5",
   "metadata": {},
   "outputs": [
    {
     "data": {
      "text/plain": [
       "('n', 'j', 'g')"
      ]
     },
     "execution_count": 23,
     "metadata": {},
     "output_type": "execute_result"
    }
   ],
   "source": [
    "n"
   ]
  },
  {
   "cell_type": "code",
   "execution_count": 24,
   "id": "f030b037",
   "metadata": {},
   "outputs": [
    {
     "data": {
      "text/plain": [
       "\"['n', 'j', 'g']\""
      ]
     },
     "execution_count": 24,
     "metadata": {},
     "output_type": "execute_result"
    }
   ],
   "source": [
    "k"
   ]
  },
  {
   "cell_type": "code",
   "execution_count": 31,
   "id": "1a37a2ff",
   "metadata": {},
   "outputs": [],
   "source": [
    "for i in look:\n",
    "    s = str(i)\n",
    "    p = \"\".join(s)"
   ]
  },
  {
   "cell_type": "code",
   "execution_count": 32,
   "id": "58abf19b",
   "metadata": {},
   "outputs": [
    {
     "data": {
      "text/plain": [
       "'g'"
      ]
     },
     "execution_count": 32,
     "metadata": {},
     "output_type": "execute_result"
    }
   ],
   "source": [
    "p"
   ]
  },
  {
   "cell_type": "code",
   "execution_count": 33,
   "id": "578de099",
   "metadata": {},
   "outputs": [
    {
     "data": {
      "text/plain": [
       "{'h', 'm', 'n'}"
      ]
     },
     "execution_count": 33,
     "metadata": {},
     "output_type": "execute_result"
    }
   ],
   "source": [
    "y = ('h','m','n')\n",
    "set(y)"
   ]
  },
  {
   "cell_type": "code",
   "execution_count": 34,
   "id": "ee4ef2fd",
   "metadata": {},
   "outputs": [
    {
     "data": {
      "text/plain": [
       "['h', 'm', 'n']"
      ]
     },
     "execution_count": 34,
     "metadata": {},
     "output_type": "execute_result"
    }
   ],
   "source": [
    "list(y)"
   ]
  },
  {
   "cell_type": "code",
   "execution_count": 35,
   "id": "6a616a03",
   "metadata": {},
   "outputs": [
    {
     "data": {
      "text/plain": [
       "\"('h', 'm', 'n')\""
      ]
     },
     "execution_count": 35,
     "metadata": {},
     "output_type": "execute_result"
    }
   ],
   "source": [
    "str(y)"
   ]
  },
  {
   "cell_type": "code",
   "execution_count": 6,
   "id": "582358af",
   "metadata": {},
   "outputs": [
    {
     "ename": "TypeError",
     "evalue": "int() argument must be a string, a bytes-like object or a number, not 'tuple'",
     "output_type": "error",
     "traceback": [
      "\u001b[1;31m---------------------------------------------------------------------------\u001b[0m",
      "\u001b[1;31mTypeError\u001b[0m                                 Traceback (most recent call last)",
      "\u001b[1;32m~\\AppData\\Local\\Temp/ipykernel_12548/3370927156.py\u001b[0m in \u001b[0;36m<module>\u001b[1;34m\u001b[0m\n\u001b[0;32m      1\u001b[0m \u001b[0mx\u001b[0m \u001b[1;33m=\u001b[0m \u001b[1;33m(\u001b[0m\u001b[1;36m1\u001b[0m\u001b[1;33m,\u001b[0m\u001b[1;36m2\u001b[0m\u001b[1;33m,\u001b[0m\u001b[1;36m3\u001b[0m\u001b[1;33m)\u001b[0m\u001b[1;33m\u001b[0m\u001b[1;33m\u001b[0m\u001b[0m\n\u001b[1;32m----> 2\u001b[1;33m \u001b[0mint\u001b[0m\u001b[1;33m(\u001b[0m\u001b[0mx\u001b[0m\u001b[1;33m)\u001b[0m\u001b[1;33m\u001b[0m\u001b[1;33m\u001b[0m\u001b[0m\n\u001b[0m",
      "\u001b[1;31mTypeError\u001b[0m: int() argument must be a string, a bytes-like object or a number, not 'tuple'"
     ]
    }
   ],
   "source": [
    "x = (1,2,3)\n",
    "int(x)"
   ]
  },
  {
   "cell_type": "code",
   "execution_count": 38,
   "id": "693ca1cb",
   "metadata": {},
   "outputs": [
    {
     "ename": "ValueError",
     "evalue": "invalid literal for int() with base 10: 'sore'",
     "output_type": "error",
     "traceback": [
      "\u001b[1;31m---------------------------------------------------------------------------\u001b[0m",
      "\u001b[1;31mValueError\u001b[0m                                Traceback (most recent call last)",
      "\u001b[1;32m~\\AppData\\Local\\Temp/ipykernel_5976/479078907.py\u001b[0m in \u001b[0;36m<module>\u001b[1;34m\u001b[0m\n\u001b[0;32m      1\u001b[0m \u001b[0mt\u001b[0m \u001b[1;33m=\u001b[0m \u001b[1;34m\"sore\"\u001b[0m\u001b[1;33m\u001b[0m\u001b[1;33m\u001b[0m\u001b[0m\n\u001b[1;32m----> 2\u001b[1;33m \u001b[0mint\u001b[0m\u001b[1;33m(\u001b[0m\u001b[0mt\u001b[0m\u001b[1;33m)\u001b[0m\u001b[1;33m\u001b[0m\u001b[1;33m\u001b[0m\u001b[0m\n\u001b[0m",
      "\u001b[1;31mValueError\u001b[0m: invalid literal for int() with base 10: 'sore'"
     ]
    }
   ],
   "source": [
    "t = \"sore\"\n",
    "int(t)"
   ]
  },
  {
   "cell_type": "code",
   "execution_count": 39,
   "id": "e6f0794a",
   "metadata": {},
   "outputs": [
    {
     "data": {
      "text/plain": [
       "5"
      ]
     },
     "execution_count": 39,
     "metadata": {},
     "output_type": "execute_result"
    }
   ],
   "source": [
    "j = 5.3\n",
    "int(j)"
   ]
  },
  {
   "cell_type": "code",
   "execution_count": 7,
   "id": "e4a939cb",
   "metadata": {},
   "outputs": [],
   "source": [
    "# string indexing and slicing\n",
    "x = \"Balga Intel\"\n",
    "a = x[0]  #ini akan menghasilkan \"B\"\n",
    "b = x[5]     #ini menghasilkan \" \"\n",
    "c = x[:]    #slicing ini akan nampilin seluruh karakter\n",
    "d = x[:4]   #nampilin dari karakter paling awal (index 0) sampai karakter ke-3\n",
    "e = x[2:]   #nampilin dari karakter index ke-2 sampai karakter paling akhir\n",
    "v = x[:-1]  #namapilin seluruh karakter sampai sebelum karakter paling akhir\n",
    "f = x[-1]     #index -1 itu karakter paling akhir\n",
    "g = x[::1]     #nampilin seluruh karakter dengan kelipatan 1\n",
    "h = x[::2]    #nampilin seluruh karakter yang posisinya kelipatan 2 dari index 0\n",
    "n = x[::-1]   #nampilik seluruh karakter dari belakang jadi terbalik gitu\n",
    "# we can't do this\n",
    "# x[1] = \"s\"\n",
    "# string ga bisa diubah"
   ]
  },
  {
   "cell_type": "code",
   "execution_count": 8,
   "id": "db42d91c",
   "metadata": {},
   "outputs": [
    {
     "data": {
      "text/plain": [
       "' '"
      ]
     },
     "execution_count": 8,
     "metadata": {},
     "output_type": "execute_result"
    }
   ],
   "source": [
    "b"
   ]
  },
  {
   "cell_type": "code",
   "execution_count": 11,
   "id": "8c7878e2",
   "metadata": {},
   "outputs": [
    {
     "data": {
      "text/plain": [
       "'lga Intel'"
      ]
     },
     "execution_count": 11,
     "metadata": {},
     "output_type": "execute_result"
    }
   ],
   "source": [
    "e"
   ]
  },
  {
   "cell_type": "code",
   "execution_count": 12,
   "id": "ed9623d7",
   "metadata": {},
   "outputs": [
    {
     "data": {
      "text/plain": [
       "'Balga Inte'"
      ]
     },
     "execution_count": 12,
     "metadata": {},
     "output_type": "execute_result"
    }
   ],
   "source": [
    "v"
   ]
  },
  {
   "cell_type": "code",
   "execution_count": 13,
   "id": "fbc2cf8e",
   "metadata": {},
   "outputs": [
    {
     "data": {
      "text/plain": [
       "'BlaItl'"
      ]
     },
     "execution_count": 13,
     "metadata": {},
     "output_type": "execute_result"
    }
   ],
   "source": [
    "h"
   ]
  },
  {
   "cell_type": "code",
   "execution_count": 14,
   "id": "9991b44e",
   "metadata": {},
   "outputs": [
    {
     "data": {
      "text/plain": [
       "'ltIalB'"
      ]
     },
     "execution_count": 14,
     "metadata": {},
     "output_type": "execute_result"
    }
   ],
   "source": [
    "x[::-2]"
   ]
  },
  {
   "cell_type": "code",
   "execution_count": 43,
   "id": "15cdf8a7",
   "metadata": {},
   "outputs": [
    {
     "data": {
      "text/plain": [
       "'Balga Intel chemistry'"
      ]
     },
     "execution_count": 43,
     "metadata": {},
     "output_type": "execute_result"
    }
   ],
   "source": [
    "bell = \"Sailor\"\n",
    "gas = \"Moon\"\n",
    "bell + gas #bisa diconcate / digabungin tanpa spasi\n",
    "x + \" chemistry\"  #pakai spasi"
   ]
  },
  {
   "cell_type": "code",
   "execution_count": 45,
   "id": "da3203c5",
   "metadata": {},
   "outputs": [
    {
     "data": {
      "text/plain": [
       "'Balga IntelMoon'"
      ]
     },
     "execution_count": 45,
     "metadata": {},
     "output_type": "execute_result"
    }
   ],
   "source": [
    "joy = x + gas\n",
    "joy"
   ]
  },
  {
   "cell_type": "code",
   "execution_count": 46,
   "id": "c46562ed",
   "metadata": {},
   "outputs": [
    {
     "data": {
      "text/plain": [
       "'jojojo'"
      ]
     },
     "execution_count": 46,
     "metadata": {},
     "output_type": "execute_result"
    }
   ],
   "source": [
    "sep = \"jo\"\n",
    "sep*3"
   ]
  },
  {
   "cell_type": "code",
   "execution_count": 48,
   "id": "018c1665",
   "metadata": {},
   "outputs": [
    {
     "data": {
      "text/plain": [
       "'Saya berlari'"
      ]
     },
     "execution_count": 48,
     "metadata": {},
     "output_type": "execute_result"
    }
   ],
   "source": [
    "opex = \"saya berlari\"\n",
    "opex.capitalize()   #huruf awal di awal kalimat aja"
   ]
  },
  {
   "cell_type": "code",
   "execution_count": 49,
   "id": "c8744035",
   "metadata": {},
   "outputs": [
    {
     "data": {
      "text/plain": [
       "['s', 'y', ' berl', 'ri']"
      ]
     },
     "execution_count": 49,
     "metadata": {},
     "output_type": "execute_result"
    }
   ],
   "source": [
    "opex.split(\"a\")  #mengubah string jadi list elemen per kata dan menghilangkan \"a\" dgn menjadikan posisinya sbg pemisah u/tiap elemen list"
   ]
  },
  {
   "cell_type": "code",
   "execution_count": 15,
   "id": "84c231dd",
   "metadata": {},
   "outputs": [
    {
     "name": "stdout",
     "output_type": "stream",
     "text": [
      "I will give you a number in form of 'whole \\tnumber'.\n"
     ]
    }
   ],
   "source": [
    "print(\"I will give you a %s in form of %r.\" %('number','whole \\tnumber'))  #%r memprint apa adanya"
   ]
  },
  {
   "cell_type": "code",
   "execution_count": 17,
   "id": "5d0317bf",
   "metadata": {},
   "outputs": [
    {
     "name": "stdout",
     "output_type": "stream",
     "text": [
      "I have 45 kg manggo.\n"
     ]
    }
   ],
   "source": [
    "print(\"I have %d kg manggo.\" %45.56)  # %d hanya bakal nampilin integernya aja"
   ]
  },
  {
   "cell_type": "code",
   "execution_count": 18,
   "id": "f85cc6a0",
   "metadata": {},
   "outputs": [
    {
     "name": "stdout",
     "output_type": "stream",
     "text": [
      "Floating point numbers:      13.14\n"
     ]
    }
   ],
   "source": [
    "print('Floating point numbers: %10.2f' %(13.144))  #sisa karakternya bakal whitespace"
   ]
  },
  {
   "cell_type": "code",
   "execution_count": 20,
   "id": "e373d47c",
   "metadata": {},
   "outputs": [
    {
     "name": "stdout",
     "output_type": "stream",
     "text": [
      "Floating point numbers: 15.1444\n"
     ]
    }
   ],
   "source": [
    "print('Floating point numbers: %1.4f' %(15.144367))  #berlaku pembulatan"
   ]
  },
  {
   "cell_type": "code",
   "execution_count": 21,
   "id": "c40f66ac",
   "metadata": {},
   "outputs": [
    {
     "name": "stdout",
     "output_type": "stream",
     "text": [
      "Floating point numbers: 15.1443674\n"
     ]
    }
   ],
   "source": [
    "print('Floating point numbers: %1.7f' %(15.14436739))"
   ]
  },
  {
   "cell_type": "code",
   "execution_count": 22,
   "id": "43ba8025",
   "metadata": {},
   "outputs": [
    {
     "name": "stdout",
     "output_type": "stream",
     "text": [
      "First: hi!, Second:  3.14, Third: 'bye!'\n"
     ]
    }
   ],
   "source": [
    "print('First: %s, Second: %5.2f, Third: %r' %('hi!',3.1415,'bye!')) #we can do multiple formatting"
   ]
  },
  {
   "cell_type": "code",
   "execution_count": 23,
   "id": "200a9e34",
   "metadata": {},
   "outputs": [
    {
     "ename": "IndexError",
     "evalue": "Replacement index 1 out of range for positional args tuple",
     "output_type": "error",
     "traceback": [
      "\u001b[1;31m---------------------------------------------------------------------------\u001b[0m",
      "\u001b[1;31mIndexError\u001b[0m                                Traceback (most recent call last)",
      "\u001b[1;32m~\\AppData\\Local\\Temp/ipykernel_12548/3445784803.py\u001b[0m in \u001b[0;36m<module>\u001b[1;34m\u001b[0m\n\u001b[1;32m----> 1\u001b[1;33m \u001b[0mprint\u001b[0m\u001b[1;33m(\u001b[0m\u001b[1;34m'This is a string with an {} double {}'\u001b[0m\u001b[1;33m.\u001b[0m\u001b[0mformat\u001b[0m\u001b[1;33m(\u001b[0m\u001b[1;34m'insert'\u001b[0m\u001b[1;33m)\u001b[0m\u001b[1;33m)\u001b[0m\u001b[1;33m\u001b[0m\u001b[1;33m\u001b[0m\u001b[0m\n\u001b[0m",
      "\u001b[1;31mIndexError\u001b[0m: Replacement index 1 out of range for positional args tuple"
     ]
    }
   ],
   "source": [
    "print('This is a string with an {} double {}'.format('insert'))  #harus ada dgn jumlah yang sama kayak placeholder/pakai parameter biar jelas"
   ]
  },
  {
   "cell_type": "code",
   "execution_count": 24,
   "id": "fbff4338",
   "metadata": {},
   "outputs": [
    {
     "name": "stdout",
     "output_type": "stream",
     "text": [
      "This is a string with an insert double insert\n"
     ]
    }
   ],
   "source": [
    "print('This is a string with an {0} double {0}'.format('insert'))  #kalo pake parameter jadi g error"
   ]
  },
  {
   "cell_type": "code",
   "execution_count": 25,
   "id": "4321f42d",
   "metadata": {},
   "outputs": [
    {
     "ename": "TypeError",
     "evalue": "not enough arguments for format string",
     "output_type": "error",
     "traceback": [
      "\u001b[1;31m---------------------------------------------------------------------------\u001b[0m",
      "\u001b[1;31mTypeError\u001b[0m                                 Traceback (most recent call last)",
      "\u001b[1;32m~\\AppData\\Local\\Temp/ipykernel_12548/712032354.py\u001b[0m in \u001b[0;36m<module>\u001b[1;34m\u001b[0m\n\u001b[1;32m----> 1\u001b[1;33m \u001b[0mprint\u001b[0m\u001b[1;33m(\u001b[0m\u001b[1;34m\"I'm going to inject %s text here, and %s text here.\"\u001b[0m\u001b[1;33m%\u001b[0m\u001b[1;33m(\u001b[0m\u001b[1;34m'something'\u001b[0m\u001b[1;33m)\u001b[0m\u001b[1;33m)\u001b[0m\u001b[1;33m\u001b[0m\u001b[1;33m\u001b[0m\u001b[0m\n\u001b[0m",
      "\u001b[1;31mTypeError\u001b[0m: not enough arguments for format string"
     ]
    }
   ],
   "source": [
    "print(\"I'm going to inject %s text here, and %s text here.\"%('something')) #klo modulo harus 2x juga di-assign karna g bisa pake parameter"
   ]
  },
  {
   "cell_type": "code",
   "execution_count": 31,
   "id": "0fb85742",
   "metadata": {},
   "outputs": [
    {
     "ename": "SyntaxError",
     "evalue": "unexpected EOF while parsing (Temp/ipykernel_12548/4001790112.py, line 1)",
     "output_type": "error",
     "traceback": [
      "\u001b[1;36m  File \u001b[1;32m\"C:\\Users\\ASUS\\AppData\\Local\\Temp/ipykernel_12548/4001790112.py\"\u001b[1;36m, line \u001b[1;32m1\u001b[0m\n\u001b[1;33m    print(\"I'm going to inject %s text here.\"%('something','thing')\u001b[0m\n\u001b[1;37m                                                                   ^\u001b[0m\n\u001b[1;31mSyntaxError\u001b[0m\u001b[1;31m:\u001b[0m unexpected EOF while parsing\n"
     ]
    }
   ],
   "source": [
    "print(\"I'm going to inject %s text here.\"%('something','thing')  "
   ]
  },
  {
   "cell_type": "code",
   "execution_count": 26,
   "id": "dce4f8d0",
   "metadata": {},
   "outputs": [
    {
     "name": "stdout",
     "output_type": "stream",
     "text": [
      "Left==== | -Center- | ...Right\n",
      "11====== | ---22--- | ......33\n"
     ]
    }
   ],
   "source": [
    "print('{0:=<8} | {1:-^8} | {2:.>8}'.format('Left','Center','Right'))\n",
    "print('{0:=<8} | {1:-^8} | {2:.>8}'.format(11,22,33))  #di placeholdernya, {posisi/variabel:char+alignment+banyak karakter}"
   ]
  },
  {
   "cell_type": "code",
   "execution_count": 27,
   "id": "fd2a3217",
   "metadata": {},
   "outputs": [
    {
     "name": "stdout",
     "output_type": "stream",
     "text": [
      "This is my ten-character, two-decimal number:     14.56\n"
     ]
    }
   ],
   "source": [
    "print('This is my ten-character, two-decimal number:{1:10.2f}'.format(13.579,14.564)) #meskipun ada 2, tenang ada parameter oke"
   ]
  },
  {
   "cell_type": "code",
   "execution_count": 29,
   "id": "e8359281",
   "metadata": {},
   "outputs": [
    {
     "name": "stdout",
     "output_type": "stream",
     "text": [
      "He said his name is 'Ben'\n"
     ]
    }
   ],
   "source": [
    "name = 'Ben'\n",
    "print(f\"He said his name is {name!r}\")"
   ]
  },
  {
   "cell_type": "code",
   "execution_count": 30,
   "id": "087e3760",
   "metadata": {},
   "outputs": [
    {
     "name": "stdout",
     "output_type": "stream",
     "text": [
      "My 10 character, four decimal number is:   24.5360\n",
      "My 10 character, four decimal number is:   23.4500\n"
     ]
    }
   ],
   "source": [
    "num = 23.45\n",
    "print(\"My 10 character, four decimal number is:{tumb:10.4f}\".format(tumb=24.536))\n",
    "print(f\"My 10 character, four decimal number is:{num:10.4f}\")"
   ]
  },
  {
   "cell_type": "code",
   "execution_count": 32,
   "id": "56975c2d",
   "metadata": {},
   "outputs": [],
   "source": [
    "my_list = ['A string',23,100.232,'o'] #ini juga bisa"
   ]
  },
  {
   "cell_type": "code",
   "execution_count": 33,
   "id": "0348887b",
   "metadata": {},
   "outputs": [
    {
     "data": {
      "text/plain": [
       "4"
      ]
     },
     "execution_count": 33,
     "metadata": {},
     "output_type": "execute_result"
    }
   ],
   "source": [
    "len(my_list)  #dihitung dari 1, kalo index dari 0. Kita juga bisa concate list pakai + jadinya listnya digabung"
   ]
  },
  {
   "cell_type": "code",
   "execution_count": 34,
   "id": "fcc8d174",
   "metadata": {},
   "outputs": [
    {
     "data": {
      "text/plain": [
       "'I got some cookies and candy'"
      ]
     },
     "execution_count": 34,
     "metadata": {},
     "output_type": "execute_result"
    }
   ],
   "source": [
    "cart = \"I got some cookies and\"\n",
    "cart + \" candy\""
   ]
  },
  {
   "cell_type": "code",
   "execution_count": 35,
   "id": "d270552d",
   "metadata": {},
   "outputs": [
    {
     "data": {
      "text/plain": [
       "'I got some cookies and'"
      ]
     },
     "execution_count": 35,
     "metadata": {},
     "output_type": "execute_result"
    }
   ],
   "source": [
    "cart  # cart ga berubah"
   ]
  },
  {
   "cell_type": "code",
   "execution_count": 36,
   "id": "7b9168f0",
   "metadata": {},
   "outputs": [
    {
     "data": {
      "text/plain": [
       "['one', 'two', 'three', 'new item']"
      ]
     },
     "execution_count": 36,
     "metadata": {},
     "output_type": "execute_result"
    }
   ],
   "source": [
    "ver = ['one','two','three']\n",
    "ver + ['new item']"
   ]
  },
  {
   "cell_type": "code",
   "execution_count": 37,
   "id": "eeac234f",
   "metadata": {},
   "outputs": [
    {
     "data": {
      "text/plain": [
       "['one', 'two', 'three']"
      ]
     },
     "execution_count": 37,
     "metadata": {},
     "output_type": "execute_result"
    }
   ],
   "source": [
    "ver  #ga berubah"
   ]
  },
  {
   "cell_type": "code",
   "execution_count": 40,
   "id": "ec59a2b6",
   "metadata": {},
   "outputs": [],
   "source": [
    "ver = ver + [4,5]"
   ]
  },
  {
   "cell_type": "code",
   "execution_count": 41,
   "id": "9b2c8207",
   "metadata": {},
   "outputs": [
    {
     "data": {
      "text/plain": [
       "['one', 'two', 'three', 4, 5]"
      ]
     },
     "execution_count": 41,
     "metadata": {},
     "output_type": "execute_result"
    }
   ],
   "source": [
    "ver"
   ]
  },
  {
   "cell_type": "code",
   "execution_count": 42,
   "id": "7a95d6a4",
   "metadata": {},
   "outputs": [
    {
     "data": {
      "text/plain": [
       "2"
      ]
     },
     "execution_count": 42,
     "metadata": {},
     "output_type": "execute_result"
    }
   ],
   "source": [
    "swap = [1,2,3,'append here']\n",
    "swap.pop(1)"
   ]
  },
  {
   "cell_type": "code",
   "execution_count": 43,
   "id": "46a7c7eb",
   "metadata": {},
   "outputs": [
    {
     "data": {
      "text/plain": [
       "3"
      ]
     },
     "execution_count": 43,
     "metadata": {},
     "output_type": "execute_result"
    }
   ],
   "source": [
    "swap.pop(1)"
   ]
  },
  {
   "cell_type": "code",
   "execution_count": 44,
   "id": "7c7006d5",
   "metadata": {},
   "outputs": [
    {
     "data": {
      "text/plain": [
       "[1, 'append here']"
      ]
     },
     "execution_count": 44,
     "metadata": {},
     "output_type": "execute_result"
    }
   ],
   "source": [
    "swap  #menghapus permanen"
   ]
  },
  {
   "cell_type": "code",
   "execution_count": 45,
   "id": "beb1322a",
   "metadata": {},
   "outputs": [],
   "source": [
    "haz = [4,8,2,9,0,-2,-7,1,12]\n",
    "haz.sort()   #dari kecil ke besar"
   ]
  },
  {
   "cell_type": "code",
   "execution_count": 46,
   "id": "d2ef11f1",
   "metadata": {},
   "outputs": [
    {
     "data": {
      "text/plain": [
       "[-7, -2, 0, 1, 2, 4, 8, 9, 12]"
      ]
     },
     "execution_count": 46,
     "metadata": {},
     "output_type": "execute_result"
    }
   ],
   "source": [
    "haz   #inget .method() hasilnya permanen jadi varibelnya di call ulang"
   ]
  },
  {
   "cell_type": "code",
   "execution_count": 48,
   "id": "12482de3",
   "metadata": {},
   "outputs": [
    {
     "data": {
      "text/plain": [
       "['amigo', 'rock', 'rope', 'sail', 'tail']"
      ]
     },
     "execution_count": 48,
     "metadata": {},
     "output_type": "execute_result"
    }
   ],
   "source": [
    "mes = ['rock','rope','sail','tail','amigo']\n",
    "mes.sort()\n",
    "mes     #dari a ke z"
   ]
  },
  {
   "cell_type": "code",
   "execution_count": 51,
   "id": "ed49292c",
   "metadata": {},
   "outputs": [
    {
     "data": {
      "text/plain": [
       "[-7, -2, 0, 1, 2, 4, 8, 9, 12]"
      ]
     },
     "execution_count": 51,
     "metadata": {},
     "output_type": "execute_result"
    }
   ],
   "source": [
    "haz.reverse()\n",
    "haz"
   ]
  },
  {
   "cell_type": "code",
   "execution_count": 52,
   "id": "df2d4c47",
   "metadata": {},
   "outputs": [
    {
     "data": {
      "text/plain": [
       "[-7, -2, 0, 1, 2, 4, 8, 9, 12]"
      ]
     },
     "execution_count": 52,
     "metadata": {},
     "output_type": "execute_result"
    }
   ],
   "source": [
    "haz"
   ]
  },
  {
   "cell_type": "code",
   "execution_count": 53,
   "id": "d46dda03",
   "metadata": {},
   "outputs": [],
   "source": [
    "haz.reverse()"
   ]
  },
  {
   "cell_type": "code",
   "execution_count": 54,
   "id": "366e1e3d",
   "metadata": {},
   "outputs": [
    {
     "data": {
      "text/plain": [
       "[12, 9, 8, 4, 2, 1, 0, -2, -7]"
      ]
     },
     "execution_count": 54,
     "metadata": {},
     "output_type": "execute_result"
    }
   ],
   "source": [
    "haz"
   ]
  },
  {
   "cell_type": "code",
   "execution_count": 55,
   "id": "658abc54",
   "metadata": {},
   "outputs": [
    {
     "data": {
      "text/plain": [
       "'AMIGO'"
      ]
     },
     "execution_count": 55,
     "metadata": {},
     "output_type": "execute_result"
    }
   ],
   "source": [
    "mes[0].upper()"
   ]
  },
  {
   "cell_type": "code",
   "execution_count": 56,
   "id": "be92cb32",
   "metadata": {},
   "outputs": [
    {
     "data": {
      "text/plain": [
       "[12, 9, 0, 4, 2, 1, 0, -2, -7]"
      ]
     },
     "execution_count": 56,
     "metadata": {},
     "output_type": "execute_result"
    }
   ],
   "source": [
    "haz[2]=0\n",
    "haz        #list bisa diubah"
   ]
  },
  {
   "cell_type": "code",
   "execution_count": 82,
   "id": "040fcd52",
   "metadata": {},
   "outputs": [],
   "source": [
    "my_dict = {'key1':123,'key2':[12,23,33],'key3':['item0','item1','item2']}"
   ]
  },
  {
   "cell_type": "code",
   "execution_count": 83,
   "id": "c401e674",
   "metadata": {},
   "outputs": [],
   "source": [
    "my_dict['key2'][2] = 43  #dict juga bisa diubah"
   ]
  },
  {
   "cell_type": "code",
   "execution_count": 84,
   "id": "11c54813",
   "metadata": {},
   "outputs": [
    {
     "data": {
      "text/plain": [
       "{'key1': 123, 'key2': [12, 23, 43], 'key3': ['item0', 'item1', 'item2']}"
      ]
     },
     "execution_count": 84,
     "metadata": {},
     "output_type": "execute_result"
    }
   ],
   "source": [
    "my_dict"
   ]
  },
  {
   "cell_type": "code",
   "execution_count": 85,
   "id": "d6235c4c",
   "metadata": {},
   "outputs": [],
   "source": [
    "my_dict['key4'] = [60,72,88]"
   ]
  },
  {
   "cell_type": "code",
   "execution_count": 86,
   "id": "28b2ca76",
   "metadata": {},
   "outputs": [
    {
     "data": {
      "text/plain": [
       "{'key1': 123,\n",
       " 'key2': [12, 23, 43],\n",
       " 'key3': ['item0', 'item1', 'item2'],\n",
       " 'key4': [60, 72, 88]}"
      ]
     },
     "execution_count": 86,
     "metadata": {},
     "output_type": "execute_result"
    }
   ],
   "source": [
    "my_dict"
   ]
  },
  {
   "cell_type": "code",
   "execution_count": 60,
   "id": "e0bc6801",
   "metadata": {},
   "outputs": [
    {
     "data": {
      "text/plain": [
       "0"
      ]
     },
     "execution_count": 60,
     "metadata": {},
     "output_type": "execute_result"
    }
   ],
   "source": [
    "my_dict['key1'] -= 123\n",
    "my_dict['key1']"
   ]
  },
  {
   "cell_type": "code",
   "execution_count": 61,
   "id": "220453ed",
   "metadata": {},
   "outputs": [],
   "source": [
    "dicty = {'key1':1,'key2':3,'key3':5}"
   ]
  },
  {
   "cell_type": "code",
   "execution_count": 62,
   "id": "d523a624",
   "metadata": {},
   "outputs": [
    {
     "data": {
      "text/plain": [
       "dict_items([('key1', 1), ('key2', 3), ('key3', 5)])"
      ]
     },
     "execution_count": 62,
     "metadata": {},
     "output_type": "execute_result"
    }
   ],
   "source": [
    "dicty.items()  #sekuruh elemen dict dalam bentu list"
   ]
  },
  {
   "cell_type": "code",
   "execution_count": 63,
   "id": "02b2bff6",
   "metadata": {},
   "outputs": [
    {
     "data": {
      "text/plain": [
       "dict_keys(['key1', 'key2', 'key3'])"
      ]
     },
     "execution_count": 63,
     "metadata": {},
     "output_type": "execute_result"
    }
   ],
   "source": [
    "dicty.keys()  #buat keys aja"
   ]
  },
  {
   "cell_type": "code",
   "execution_count": 64,
   "id": "4e2e8952",
   "metadata": {},
   "outputs": [
    {
     "data": {
      "text/plain": [
       "dict_values([1, 3, 5])"
      ]
     },
     "execution_count": 64,
     "metadata": {},
     "output_type": "execute_result"
    }
   ],
   "source": [
    "dicty.values()  #buat values aja"
   ]
  },
  {
   "cell_type": "code",
   "execution_count": 68,
   "id": "a4d3fab2",
   "metadata": {},
   "outputs": [],
   "source": [
    "del(dicty['key3'])  #buat menghapus gunakan del()  bukan .del()"
   ]
  },
  {
   "cell_type": "code",
   "execution_count": 69,
   "id": "f80ad44d",
   "metadata": {},
   "outputs": [
    {
     "data": {
      "text/plain": [
       "{'key1': 1, 'key2': 3}"
      ]
     },
     "execution_count": 69,
     "metadata": {},
     "output_type": "execute_result"
    }
   ],
   "source": [
    "dicty"
   ]
  },
  {
   "cell_type": "code",
   "execution_count": 2,
   "id": "818a84f2",
   "metadata": {},
   "outputs": [
    {
     "name": "stdout",
     "output_type": "stream",
     "text": [
      "('re', 1)\n",
      "('xe', 4)\n",
      "('ka', 8)\n"
     ]
    }
   ],
   "source": [
    "dictm = {'re':1,'xe':4,'ka':8}\n",
    "for x,y in dictm.items():\n",
    "    print((x,y))"
   ]
  },
  {
   "cell_type": "code",
   "execution_count": 70,
   "id": "fb0553d6",
   "metadata": {},
   "outputs": [],
   "source": [
    "t = ('one',2,'three',4,'five')"
   ]
  },
  {
   "cell_type": "code",
   "execution_count": 71,
   "id": "2bfcb2a1",
   "metadata": {},
   "outputs": [
    {
     "data": {
      "text/plain": [
       "tuple"
      ]
     },
     "execution_count": 71,
     "metadata": {},
     "output_type": "execute_result"
    }
   ],
   "source": [
    "y = (2,'vivo')\n",
    "type(y)"
   ]
  },
  {
   "cell_type": "code",
   "execution_count": 75,
   "id": "b97d0a20",
   "metadata": {},
   "outputs": [],
   "source": [
    "zax = 2,4\n",
    "zar = 2,5,\n",
    "cas = 4,\n",
    "vab = 4"
   ]
  },
  {
   "cell_type": "code",
   "execution_count": 73,
   "id": "a2da53e2",
   "metadata": {},
   "outputs": [
    {
     "data": {
      "text/plain": [
       "tuple"
      ]
     },
     "execution_count": 73,
     "metadata": {},
     "output_type": "execute_result"
    }
   ],
   "source": [
    "type(zax)"
   ]
  },
  {
   "cell_type": "code",
   "execution_count": 74,
   "id": "eb68ca3c",
   "metadata": {},
   "outputs": [
    {
     "data": {
      "text/plain": [
       "tuple"
      ]
     },
     "execution_count": 74,
     "metadata": {},
     "output_type": "execute_result"
    }
   ],
   "source": [
    "type(zar)"
   ]
  },
  {
   "cell_type": "code",
   "execution_count": 76,
   "id": "a3f82cb1",
   "metadata": {},
   "outputs": [
    {
     "data": {
      "text/plain": [
       "tuple"
      ]
     },
     "execution_count": 76,
     "metadata": {},
     "output_type": "execute_result"
    }
   ],
   "source": [
    "type(cas)"
   ]
  },
  {
   "cell_type": "code",
   "execution_count": 77,
   "id": "fe8b46d7",
   "metadata": {},
   "outputs": [
    {
     "data": {
      "text/plain": [
       "int"
      ]
     },
     "execution_count": 77,
     "metadata": {},
     "output_type": "execute_result"
    }
   ],
   "source": [
    "type(vab)"
   ]
  },
  {
   "cell_type": "code",
   "execution_count": 78,
   "id": "d7f1c2f4",
   "metadata": {},
   "outputs": [
    {
     "data": {
      "text/plain": [
       "('one', 2, 'three', 4, 'five')"
      ]
     },
     "execution_count": 78,
     "metadata": {},
     "output_type": "execute_result"
    }
   ],
   "source": [
    "t"
   ]
  },
  {
   "cell_type": "code",
   "execution_count": 79,
   "id": "8aa35e7b",
   "metadata": {},
   "outputs": [
    {
     "data": {
      "text/plain": [
       "('one', 2, 'three')"
      ]
     },
     "execution_count": 79,
     "metadata": {},
     "output_type": "execute_result"
    }
   ],
   "source": [
    "t[:-2]"
   ]
  },
  {
   "cell_type": "code",
   "execution_count": 80,
   "id": "b1b61193",
   "metadata": {},
   "outputs": [
    {
     "data": {
      "text/plain": [
       "2"
      ]
     },
     "execution_count": 80,
     "metadata": {},
     "output_type": "execute_result"
    }
   ],
   "source": [
    "t.index('three')   #mengetahui index elemen"
   ]
  },
  {
   "cell_type": "code",
   "execution_count": 88,
   "id": "5a756f70",
   "metadata": {},
   "outputs": [
    {
     "ename": "TypeError",
     "evalue": "unhashable type: 'list'",
     "output_type": "error",
     "traceback": [
      "\u001b[1;31m---------------------------------------------------------------------------\u001b[0m",
      "\u001b[1;31mTypeError\u001b[0m                                 Traceback (most recent call last)",
      "\u001b[1;32m~\\AppData\\Local\\Temp/ipykernel_12548/2193045314.py\u001b[0m in \u001b[0;36m<module>\u001b[1;34m\u001b[0m\n\u001b[0;32m      1\u001b[0m \u001b[0mkeep\u001b[0m \u001b[1;33m=\u001b[0m \u001b[0mset\u001b[0m\u001b[1;33m(\u001b[0m\u001b[1;33m)\u001b[0m\u001b[1;33m\u001b[0m\u001b[1;33m\u001b[0m\u001b[0m\n\u001b[0;32m      2\u001b[0m \u001b[0mlistr\u001b[0m \u001b[1;33m=\u001b[0m \u001b[1;33m[\u001b[0m\u001b[1;36m5\u001b[0m\u001b[1;33m,\u001b[0m\u001b[1;36m4\u001b[0m\u001b[1;33m,\u001b[0m\u001b[1;36m3\u001b[0m\u001b[1;33m,\u001b[0m\u001b[1;36m5\u001b[0m\u001b[1;33m,\u001b[0m\u001b[1;36m4\u001b[0m\u001b[1;33m,\u001b[0m\u001b[1;36m1\u001b[0m\u001b[1;33m]\u001b[0m\u001b[1;33m\u001b[0m\u001b[1;33m\u001b[0m\u001b[0m\n\u001b[1;32m----> 3\u001b[1;33m \u001b[0mkeep\u001b[0m\u001b[1;33m.\u001b[0m\u001b[0madd\u001b[0m\u001b[1;33m(\u001b[0m\u001b[0mlistr\u001b[0m\u001b[1;33m)\u001b[0m\u001b[1;33m\u001b[0m\u001b[1;33m\u001b[0m\u001b[0m\n\u001b[0m",
      "\u001b[1;31mTypeError\u001b[0m: unhashable type: 'list'"
     ]
    }
   ],
   "source": [
    "keep = set()\n",
    "listr = [5,4,3,5,4,1]\n",
    "keep.add(listr)     #tidak bisa menambahkan list ke dalam set"
   ]
  },
  {
   "cell_type": "code",
   "execution_count": 89,
   "id": "d55878f0",
   "metadata": {},
   "outputs": [
    {
     "data": {
      "text/plain": [
       "{1, 3, 4, 5}"
      ]
     },
     "execution_count": 89,
     "metadata": {},
     "output_type": "execute_result"
    }
   ],
   "source": [
    "set(listr)   #tapi bisa diubah ke dalam set"
   ]
  },
  {
   "cell_type": "code",
   "execution_count": 90,
   "id": "72a3584b",
   "metadata": {},
   "outputs": [
    {
     "ename": "AttributeError",
     "evalue": "'str' object has no attribute 'reverse'",
     "output_type": "error",
     "traceback": [
      "\u001b[1;31m---------------------------------------------------------------------------\u001b[0m",
      "\u001b[1;31mAttributeError\u001b[0m                            Traceback (most recent call last)",
      "\u001b[1;32m~\\AppData\\Local\\Temp/ipykernel_12548/1288386512.py\u001b[0m in \u001b[0;36m<module>\u001b[1;34m\u001b[0m\n\u001b[0;32m      1\u001b[0m \u001b[0mnope\u001b[0m \u001b[1;33m=\u001b[0m \u001b[1;34m\"santan\"\u001b[0m\u001b[1;33m\u001b[0m\u001b[1;33m\u001b[0m\u001b[0m\n\u001b[1;32m----> 2\u001b[1;33m \u001b[0mnope\u001b[0m\u001b[1;33m.\u001b[0m\u001b[0mreverse\u001b[0m\u001b[1;33m(\u001b[0m\u001b[1;33m)\u001b[0m\u001b[1;33m\u001b[0m\u001b[1;33m\u001b[0m\u001b[0m\n\u001b[0m",
      "\u001b[1;31mAttributeError\u001b[0m: 'str' object has no attribute 'reverse'"
     ]
    }
   ],
   "source": [
    "nope = \"santan\"\n",
    "nope.reverse()"
   ]
  },
  {
   "cell_type": "code",
   "execution_count": 91,
   "id": "ca667064",
   "metadata": {},
   "outputs": [],
   "source": [
    "d = {'k1':[{'nest_key':['this is deep',['hello']]}]}"
   ]
  },
  {
   "cell_type": "code",
   "execution_count": 93,
   "id": "68e991b0",
   "metadata": {},
   "outputs": [
    {
     "data": {
      "text/plain": [
       "'hello'"
      ]
     },
     "execution_count": 93,
     "metadata": {},
     "output_type": "execute_result"
    }
   ],
   "source": [
    "d['k1'][0]['nest_key'][1][0]"
   ]
  },
  {
   "cell_type": "code",
   "execution_count": 94,
   "id": "3c98c8f2",
   "metadata": {},
   "outputs": [],
   "source": [
    "d = {'k1':[1,2,{'k2':['this is tricky',{'tough':[1,2,['hello']]}]}]}"
   ]
  },
  {
   "cell_type": "code",
   "execution_count": 95,
   "id": "055cb25c",
   "metadata": {},
   "outputs": [
    {
     "data": {
      "text/plain": [
       "'hello'"
      ]
     },
     "execution_count": 95,
     "metadata": {},
     "output_type": "execute_result"
    }
   ],
   "source": [
    "d['k1'][2]['k2'][1]['tough'][2][0]"
   ]
  },
  {
   "cell_type": "code",
   "execution_count": 96,
   "id": "07d366ad",
   "metadata": {},
   "outputs": [
    {
     "data": {
      "text/plain": [
       "'megaga'"
      ]
     },
     "execution_count": 96,
     "metadata": {},
     "output_type": "execute_result"
    }
   ],
   "source": [
    "das = ['me','ga','ga']\n",
    "\"\".join(das)    #split string jadi list; join list jadi string"
   ]
  },
  {
   "cell_type": "code",
   "execution_count": 3,
   "id": "96f43d42",
   "metadata": {},
   "outputs": [
    {
     "name": "stdout",
     "output_type": "stream",
     "text": [
      "2 4\n",
      "6 8\n",
      "10 12\n"
     ]
    }
   ],
   "source": [
    "list2 = [(2,4),(6,8),(10,12)]\n",
    "for i,j in list2:\n",
    "    print(i,j)"
   ]
  },
  {
   "cell_type": "code",
   "execution_count": 2,
   "id": "bafa188b",
   "metadata": {},
   "outputs": [
    {
     "name": "stdout",
     "output_type": "stream",
     "text": [
      "12\n"
     ]
    }
   ],
   "source": [
    "print(j)"
   ]
  },
  {
   "cell_type": "code",
   "execution_count": 4,
   "id": "e1e751aa",
   "metadata": {},
   "outputs": [
    {
     "name": "stdout",
     "output_type": "stream",
     "text": [
      "k1\n",
      "k2\n",
      "k3\n"
     ]
    }
   ],
   "source": [
    "d = {'k1':1,'k2':2,'k3':3}\n",
    "for item in d:\n",
    "    print(item)  #cuma keys aja"
   ]
  },
  {
   "cell_type": "code",
   "execution_count": 5,
   "id": "7c9fe4d0",
   "metadata": {},
   "outputs": [
    {
     "data": {
      "text/plain": [
       "dict_items([('k1', 1), ('k2', 2), ('k3', 3)])"
      ]
     },
     "execution_count": 5,
     "metadata": {},
     "output_type": "execute_result"
    }
   ],
   "source": [
    "d.items()"
   ]
  },
  {
   "cell_type": "code",
   "execution_count": 7,
   "id": "64000840",
   "metadata": {},
   "outputs": [
    {
     "name": "stdout",
     "output_type": "stream",
     "text": [
      "k1\n",
      "k2\n",
      "k3\n"
     ]
    }
   ],
   "source": [
    "for x,y in d.items():\n",
    "    print(x)"
   ]
  },
  {
   "cell_type": "code",
   "execution_count": 8,
   "id": "fc634211",
   "metadata": {},
   "outputs": [
    {
     "name": "stdout",
     "output_type": "stream",
     "text": [
      "('k1', 1)\n",
      "('k2', 2)\n",
      "('k3', 3)\n"
     ]
    }
   ],
   "source": [
    "for x,y in d.items():\n",
    "    print((x,y))"
   ]
  },
  {
   "cell_type": "code",
   "execution_count": 9,
   "id": "120f6772",
   "metadata": {},
   "outputs": [
    {
     "data": {
      "text/plain": [
       "dict_values([1, 2, 3])"
      ]
     },
     "execution_count": 9,
     "metadata": {},
     "output_type": "execute_result"
    }
   ],
   "source": [
    "d.values()"
   ]
  },
  {
   "cell_type": "code",
   "execution_count": 10,
   "id": "21c9028e",
   "metadata": {},
   "outputs": [
    {
     "data": {
      "text/plain": [
       "dict_keys(['k1', 'k2', 'k3'])"
      ]
     },
     "execution_count": 10,
     "metadata": {},
     "output_type": "execute_result"
    }
   ],
   "source": [
    "d.keys()"
   ]
  },
  {
   "cell_type": "code",
   "execution_count": 11,
   "id": "bb08a1c2",
   "metadata": {},
   "outputs": [
    {
     "ename": "AttributeError",
     "evalue": "'dict_values' object has no attribute 'sort'",
     "output_type": "error",
     "traceback": [
      "\u001b[1;31m---------------------------------------------------------------------------\u001b[0m",
      "\u001b[1;31mAttributeError\u001b[0m                            Traceback (most recent call last)",
      "\u001b[1;32m~\\AppData\\Local\\Temp/ipykernel_12576/205524865.py\u001b[0m in \u001b[0;36m<module>\u001b[1;34m\u001b[0m\n\u001b[1;32m----> 1\u001b[1;33m \u001b[0md\u001b[0m\u001b[1;33m.\u001b[0m\u001b[0mvalues\u001b[0m\u001b[1;33m(\u001b[0m\u001b[1;33m)\u001b[0m\u001b[1;33m.\u001b[0m\u001b[0msort\u001b[0m\u001b[1;33m(\u001b[0m\u001b[1;33m)\u001b[0m\u001b[1;33m\u001b[0m\u001b[1;33m\u001b[0m\u001b[0m\n\u001b[0m",
      "\u001b[1;31mAttributeError\u001b[0m: 'dict_values' object has no attribute 'sort'"
     ]
    }
   ],
   "source": [
    "d.values().sort()"
   ]
  },
  {
   "cell_type": "code",
   "execution_count": 12,
   "id": "19c5e424",
   "metadata": {},
   "outputs": [
    {
     "data": {
      "text/plain": [
       "[1, 2, 3]"
      ]
     },
     "execution_count": 12,
     "metadata": {},
     "output_type": "execute_result"
    }
   ],
   "source": [
    "sorted(d.values())"
   ]
  },
  {
   "cell_type": "code",
   "execution_count": 13,
   "id": "69a3cdd2",
   "metadata": {},
   "outputs": [
    {
     "name": "stdout",
     "output_type": "stream",
     "text": [
      "x is currently:  2\n",
      " x is still less than 10, adding 1 to x\n",
      "x==4\n",
      "x is currently:  4\n",
      " x is still less than 10, adding 1 to x\n",
      "continuing...\n",
      "x is currently:  6\n",
      " x is still less than 10, adding 1 to x\n",
      "continuing...\n",
      "x is currently:  8\n",
      " x is still less than 10, adding 1 to x\n",
      "continuing...\n",
      "x is currently:  10\n",
      " x is still less than 10, adding 1 to x\n",
      "continuing...\n"
     ]
    }
   ],
   "source": [
    "x = 2\n",
    "\n",
    "while x < 12:\n",
    "    print('x is currently: ',x)\n",
    "    print(' x is still less than 10, adding 1 to x')\n",
    "    x+=2\n",
    "    if x==4:\n",
    "        print('x==4')\n",
    "    else:\n",
    "        print('continuing...')\n",
    "        continue"
   ]
  },
  {
   "cell_type": "code",
   "execution_count": 15,
   "id": "d2ed80f3",
   "metadata": {},
   "outputs": [
    {
     "data": {
      "text/plain": [
       "((0, 'a'), (1, 'b'), (2, 'c'), (3, 'd'), (4, 'e'))"
      ]
     },
     "execution_count": 15,
     "metadata": {},
     "output_type": "execute_result"
    }
   ],
   "source": [
    "tuple(enumerate('abcde'))"
   ]
  },
  {
   "cell_type": "code",
   "execution_count": 16,
   "id": "f3b3e7d9",
   "metadata": {},
   "outputs": [
    {
     "data": {
      "text/plain": [
       "[(0, 'a'), (1, 'b'), (2, 'c'), (3, 'd'), (4, 'e')]"
      ]
     },
     "execution_count": 16,
     "metadata": {},
     "output_type": "execute_result"
    }
   ],
   "source": [
    "list(enumerate('abcde'))"
   ]
  },
  {
   "cell_type": "code",
   "execution_count": 17,
   "id": "03c8c7de",
   "metadata": {},
   "outputs": [
    {
     "data": {
      "text/plain": [
       "[(1, 'a'), (2, 'b'), (3, 'c'), (4, 'd'), (5, 'e')]"
      ]
     },
     "execution_count": 17,
     "metadata": {},
     "output_type": "execute_result"
    }
   ],
   "source": [
    "mylist1 = [1,2,3,4,5]\n",
    "mylist2 = ['a','b','c','d','e']\n",
    "list(zip(mylist1,mylist2))"
   ]
  },
  {
   "cell_type": "code",
   "execution_count": 18,
   "id": "329eb0b0",
   "metadata": {},
   "outputs": [
    {
     "name": "stdout",
     "output_type": "stream",
     "text": [
      "Print\n",
      "only\n",
      "the\n",
      "words\n",
      "that\n",
      "start\n",
      "with\n",
      "s\n",
      "in\n",
      "this\n",
      "sentence\n"
     ]
    }
   ],
   "source": [
    "st = 'Print only the words that start with s in this sentence'\n",
    "for word in st.split():\n",
    "    print(word)"
   ]
  },
  {
   "cell_type": "code",
   "execution_count": 22,
   "id": "1b7296ed",
   "metadata": {},
   "outputs": [
    {
     "name": "stdout",
     "output_type": "stream",
     "text": [
      "start\n",
      "S\n",
      "sentence\n"
     ]
    }
   ],
   "source": [
    "st = 'Print only the words that start with S in this sentence'\n",
    "for word in st.split():\n",
    "    if word[0] == 's' or word[0] == 'S':\n",
    "        print(word)"
   ]
  },
  {
   "cell_type": "code",
   "execution_count": 19,
   "id": "9210c54b",
   "metadata": {},
   "outputs": [
    {
     "name": "stdout",
     "output_type": "stream",
     "text": [
      "Jokes\n"
     ]
    }
   ],
   "source": [
    "xr = \"Jokes\"\n",
    "for t in xr.split():\n",
    "    print(t)"
   ]
  },
  {
   "cell_type": "code",
   "execution_count": 20,
   "id": "79313211",
   "metadata": {},
   "outputs": [
    {
     "name": "stdout",
     "output_type": "stream",
     "text": [
      "J\n",
      "o\n",
      "k\n",
      "e\n",
      "s\n"
     ]
    }
   ],
   "source": [
    "for t in xr.split():\n",
    "    for i in t:\n",
    "        print(i)"
   ]
  },
  {
   "cell_type": "code",
   "execution_count": 23,
   "id": "f20ff10b",
   "metadata": {},
   "outputs": [
    {
     "data": {
      "text/plain": [
       "[3, 6, 9, 12, 15, 18, 21, 24, 27, 30, 33, 36, 39, 42, 45, 48]"
      ]
     },
     "execution_count": 23,
     "metadata": {},
     "output_type": "execute_result"
    }
   ],
   "source": [
    "[x for x in range(1,51) if x % 3 == 0]"
   ]
  },
  {
   "cell_type": "code",
   "execution_count": 24,
   "id": "8f1524f6",
   "metadata": {},
   "outputs": [
    {
     "name": "stdout",
     "output_type": "stream",
     "text": [
      "even\n",
      "even\n",
      "even\n",
      "even\n",
      "even\n",
      "even\n",
      "even\n",
      "even\n",
      "even\n"
     ]
    }
   ],
   "source": [
    "st = 'Print every word in this sentence that has an even number of letters'\n",
    "for word in st.split():\n",
    "    if len(word) % 2 == 0:\n",
    "        print('even')"
   ]
  },
  {
   "cell_type": "code",
   "execution_count": 25,
   "id": "c9050895",
   "metadata": {},
   "outputs": [
    {
     "name": "stdout",
     "output_type": "stream",
     "text": [
      "Print\n",
      "every\n",
      "even\n",
      "even\n",
      "even\n",
      "even\n",
      "even\n",
      "has\n",
      "even\n",
      "even\n",
      "even\n",
      "even\n",
      "letters\n"
     ]
    }
   ],
   "source": [
    "st = 'Print every word in this sentence that has an even number of letters'\n",
    "for word in st.split():\n",
    "    if len(word) % 2 == 0:\n",
    "        print('even')\n",
    "    else:\n",
    "        print(word)"
   ]
  },
  {
   "cell_type": "code",
   "execution_count": 26,
   "id": "bb3f561b",
   "metadata": {},
   "outputs": [
    {
     "name": "stdout",
     "output_type": "stream",
     "text": [
      "word <---even\n",
      "in <---even\n",
      "this <---even\n",
      "sentence <---even\n",
      "that <---even\n",
      "an <---even\n",
      "even <---even\n",
      "number <---even\n",
      "of <---even\n"
     ]
    }
   ],
   "source": [
    "st = 'Print every word in this sentence that has an even number of letters'\n",
    "for word in st.split():\n",
    "    if len(word) % 2 == 0:\n",
    "        print(word+\" <---even\")"
   ]
  },
  {
   "cell_type": "code",
   "execution_count": 27,
   "id": "ebc694e7",
   "metadata": {},
   "outputs": [
    {
     "name": "stdout",
     "output_type": "stream",
     "text": [
      "1\n",
      "2\n",
      "Fizz\n",
      "4\n",
      "Buzz\n",
      "Fizz\n",
      "7\n",
      "8\n",
      "Fizz\n",
      "Buzz\n",
      "11\n",
      "Fizz\n",
      "13\n",
      "14\n",
      "Fizz\n",
      "16\n",
      "17\n",
      "Fizz\n",
      "19\n",
      "Buzz\n",
      "Fizz\n",
      "22\n",
      "23\n",
      "Fizz\n",
      "Buzz\n",
      "26\n",
      "Fizz\n",
      "28\n",
      "29\n",
      "Fizz\n",
      "31\n",
      "32\n",
      "Fizz\n",
      "34\n",
      "Buzz\n",
      "Fizz\n",
      "37\n",
      "38\n",
      "Fizz\n",
      "Buzz\n",
      "41\n",
      "Fizz\n",
      "43\n",
      "44\n",
      "Fizz\n",
      "46\n",
      "47\n",
      "Fizz\n",
      "49\n",
      "Buzz\n"
     ]
    }
   ],
   "source": [
    "for num in range(1,51):\n",
    "    if num % 3 == 0 or num % 5 == 0:\n",
    "        if num % 3 == 0:\n",
    "            print(\"Fizz\")\n",
    "        else:\n",
    "            print(\"Buzz\")\n",
    "    elif num % 3 == 0 and num % 5 == 0:\n",
    "        print(\"FizzBuzz\")\n",
    "    else:\n",
    "        print(num)"
   ]
  },
  {
   "cell_type": "code",
   "execution_count": 29,
   "id": "bf397121",
   "metadata": {},
   "outputs": [
    {
     "name": "stdout",
     "output_type": "stream",
     "text": [
      "1\n",
      "2\n",
      "Fizz\n",
      "4\n",
      "Buzz\n",
      "Fizz\n",
      "7\n",
      "8\n",
      "Fizz\n",
      "Buzz\n",
      "11\n",
      "Fizz\n",
      "13\n",
      "14\n",
      "FizzBuzz\n",
      "16\n",
      "17\n",
      "Fizz\n",
      "19\n",
      "Buzz\n",
      "Fizz\n",
      "22\n",
      "23\n",
      "Fizz\n",
      "Buzz\n",
      "26\n",
      "Fizz\n",
      "28\n",
      "29\n",
      "FizzBuzz\n",
      "31\n",
      "32\n",
      "Fizz\n",
      "34\n",
      "Buzz\n",
      "Fizz\n",
      "37\n",
      "38\n",
      "Fizz\n",
      "Buzz\n",
      "41\n",
      "Fizz\n",
      "43\n",
      "44\n",
      "FizzBuzz\n",
      "46\n",
      "47\n",
      "Fizz\n",
      "49\n",
      "Buzz\n"
     ]
    }
   ],
   "source": [
    "for num in range(1,51):\n",
    "    if num % 3 == 0 and num % 5 == 0:\n",
    "        print(\"FizzBuzz\")\n",
    "    elif num % 3 == 0:\n",
    "        print(\"Fizz\")\n",
    "    elif num % 5 == 0:\n",
    "        print(\"Buzz\")\n",
    "    else:\n",
    "        print(num)"
   ]
  },
  {
   "cell_type": "code",
   "execution_count": 30,
   "id": "2f798c64",
   "metadata": {},
   "outputs": [
    {
     "data": {
      "text/plain": [
       "['P', 'e', 'w', 'i', 't', 's', 't', 'h', 'a', 'e', 'n', 'o', 'l']"
      ]
     },
     "execution_count": 30,
     "metadata": {},
     "output_type": "execute_result"
    }
   ],
   "source": [
    "st = 'Print every word in this sentence that has an even number of letters'\n",
    "[kata[0] for kata in st.split()]"
   ]
  },
  {
   "cell_type": "code",
   "execution_count": 36,
   "id": "3b2d554a",
   "metadata": {},
   "outputs": [
    {
     "data": {
      "text/plain": [
       "'P'"
      ]
     },
     "execution_count": 36,
     "metadata": {},
     "output_type": "execute_result"
    }
   ],
   "source": [
    "st[0]"
   ]
  },
  {
   "cell_type": "code",
   "execution_count": 32,
   "id": "62249feb",
   "metadata": {},
   "outputs": [
    {
     "data": {
      "text/plain": [
       "['P',\n",
       " 'r',\n",
       " 'i',\n",
       " 'n',\n",
       " 't',\n",
       " ' ',\n",
       " 'e',\n",
       " 'v',\n",
       " 'e',\n",
       " 'r',\n",
       " 'y',\n",
       " ' ',\n",
       " 'w',\n",
       " 'o',\n",
       " 'r',\n",
       " 'd',\n",
       " ' ',\n",
       " 'i',\n",
       " 'n',\n",
       " ' ',\n",
       " 't',\n",
       " 'h',\n",
       " 'i',\n",
       " 's',\n",
       " ' ',\n",
       " 's',\n",
       " 'e',\n",
       " 'n',\n",
       " 't',\n",
       " 'e',\n",
       " 'n',\n",
       " 'c',\n",
       " 'e',\n",
       " ' ',\n",
       " 't',\n",
       " 'h',\n",
       " 'a',\n",
       " 't',\n",
       " ' ',\n",
       " 'h',\n",
       " 'a',\n",
       " 's',\n",
       " ' ',\n",
       " 'a',\n",
       " 'n',\n",
       " ' ',\n",
       " 'e',\n",
       " 'v',\n",
       " 'e',\n",
       " 'n',\n",
       " ' ',\n",
       " 'n',\n",
       " 'u',\n",
       " 'm',\n",
       " 'b',\n",
       " 'e',\n",
       " 'r',\n",
       " ' ',\n",
       " 'o',\n",
       " 'f',\n",
       " ' ',\n",
       " 'l',\n",
       " 'e',\n",
       " 't',\n",
       " 't',\n",
       " 'e',\n",
       " 'r',\n",
       " 's']"
      ]
     },
     "execution_count": 32,
     "metadata": {},
     "output_type": "execute_result"
    }
   ],
   "source": [
    "[kata[0] for kata in st]"
   ]
  },
  {
   "cell_type": "code",
   "execution_count": 1,
   "id": "82474a3b",
   "metadata": {},
   "outputs": [
    {
     "data": {
      "text/plain": [
       "True"
      ]
     },
     "execution_count": 1,
     "metadata": {},
     "output_type": "execute_result"
    }
   ],
   "source": [
    "nyt = 'Car Free day!'\n",
    "not('free' in nyt)"
   ]
  },
  {
   "cell_type": "code",
   "execution_count": 2,
   "id": "ccab0648",
   "metadata": {},
   "outputs": [
    {
     "name": "stdout",
     "output_type": "stream",
     "text": [
      "5\n"
     ]
    }
   ],
   "source": [
    "a = 5\n",
    "print(a)\n",
    "a += 10"
   ]
  },
  {
   "cell_type": "code",
   "execution_count": null,
   "id": "4dc53740",
   "metadata": {},
   "outputs": [],
   "source": []
  }
 ],
 "metadata": {
  "kernelspec": {
   "display_name": "Python 3 (ipykernel)",
   "language": "python",
   "name": "python3"
  },
  "language_info": {
   "codemirror_mode": {
    "name": "ipython",
    "version": 3
   },
   "file_extension": ".py",
   "mimetype": "text/x-python",
   "name": "python",
   "nbconvert_exporter": "python",
   "pygments_lexer": "ipython3",
   "version": "3.9.7"
  }
 },
 "nbformat": 4,
 "nbformat_minor": 5
}
